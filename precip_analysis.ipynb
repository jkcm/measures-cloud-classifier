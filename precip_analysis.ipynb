{
 "cells": [
  {
   "cell_type": "code",
   "execution_count": 2,
   "metadata": {},
   "outputs": [],
   "source": [
    "#precip analysis\n",
    "import glob\n",
    "import xarray as xr\n",
    "import os\n",
    "import numpy as np\n",
    "import warnings\n",
    "import sys\n",
    "import pickle\n",
    "import matplotlib.pyplot as plt\n",
    "sys.path.insert(0, '/home/disk/p/jkcm/Code')\n",
    "from Lagrangian_CSET.CSET_data_classes import CSET_Flight\n",
    "from Lagrangian_CSET import utils\n",
    "from Lagrangian_CSET import met_utils as mu\n",
    "from Lagrangian_CSET.LoopTimer import LoopTimer\n",
    "%load_ext autoreload\n",
    "%autoreload 2"
   ]
  },
  {
   "cell_type": "code",
   "execution_count": 158,
   "metadata": {},
   "outputs": [],
   "source": [
    "def get_precip_from_leg(flight, start_time, end_time):\n",
    "    precip_data_location = r'/home/disk/eos4/jkcm/Data/CSET/precip_retrievals'\n",
    "    precip_file = glob.glob(os.path.join(precip_data_location,\n",
    "                                  'RF{:02}_*.cdf'.format(flight)))\n",
    "    if len(precip_file) == 0:\n",
    "        return([np.nan])\n",
    "    with xr.open_dataset(precip_file[0]) as data:\n",
    "        data['time'].values = data.time.values.astype('datetime64')\n",
    "        precip_data = data.sel(time=slice(start_time, end_time))\n",
    "        prec = precip_data['lwf']\n",
    "        col_max = prec.max(dim='height', skipna=True)   \n",
    "    return col_max.values*3.6*24  # in mm/day, from g/m2/s originally\n",
    "    #open the right precip file\n",
    "    #chop out the right segment\n",
    "    #get the colmax precips\n",
    "    #return that whole array"
   ]
  },
  {
   "cell_type": "code",
   "execution_count": 159,
   "metadata": {},
   "outputs": [],
   "source": [
    "x = utils.read_CSET_Lookup_Table(rf_num='all', sequences='all', legs=['b'], \n",
    "                                 variables=['Date', 'ST', 'ET', 'uhsas_conc1_M', 'Lat_S', 'Lat_E', 'Lon_S', 'Lon_E'])\n",
    "start_dates = [utils.CSET_date_from_table(x['Date']['values'][i], x['ST']['values'][i])\n",
    "               for i in range(len(x['Date']['values']))]\n",
    "end_dates = [utils.CSET_date_from_table(x['Date']['values'][i], x['ET']['values'][i])\n",
    "             for i in range(len(x['Date']['values']))]\n",
    "lats = (x['Lat_S']['values'] + x['Lat_E']['values'])/2\n",
    "lons = (x['Lon_S']['values'] + x['Lon_E']['values'])/2\n",
    "times = [utils.CSET_date_from_table(x['Date']['values'][i], (x['ST']['values'][i]+x['ET']['values'][i])/2)\n",
    "               for i in range(len(x['Date']['values']))]\n",
    "Nds = x['uhsas_conc1_M']['values']\n",
    "Nds[Nds=='-'] = np.nan\n",
    "Nds = Nds.astype(float)\n",
    "locs = np.array([lats, lons, times]).T\n",
    "flights = x['rf']\n",
    "all_precips = []\n",
    "mean_precips = []\n",
    "for (start_time, end_time, rf) in zip(start_dates, end_dates, flights):\n",
    "    precips = get_precip_from_leg(rf, start_time, end_time)\n",
    "    all_precips.append(precips)\n",
    "    mean_precips.append(np.nanmean(precips))\n",
    "    \n",
    "    \n",
    "locs = np.array([lats, lons, times, all_precips]).T"
   ]
  },
  {
   "cell_type": "code",
   "execution_count": 160,
   "metadata": {},
   "outputs": [],
   "source": [
    "data_loc = r'/home/disk/eos4/jkcm/Data/CSET/Python/'\n",
    "with open(os.path.join(data_loc, 'nep_scenes.pickle'), 'rb') as f:\n",
    "    nep_scenes = pickle.load(f)\n",
    "\n",
    "lats_nep = nep_scenes['lats_nep']\n",
    "lons_nep = nep_scenes['lons_nep']\n",
    "int_local_days_nep = nep_scenes['int_local_days_nep']\n",
    "scenes_nep = nep_scenes['scenes_nep']"
   ]
  },
  {
   "cell_type": "code",
   "execution_count": 161,
   "metadata": {},
   "outputs": [],
   "source": [
    "min_dists = []\n",
    "best_scenes = []\n",
    "failed_locs = []\n",
    "precip_by_scene = {-1: [],\n",
    "                 0: [],\n",
    "                 1: [],\n",
    "                 2: [],\n",
    "                 3: [],\n",
    "                 4: []}\n",
    "for i, loc in enumerate(locs):\n",
    "    lat, lon = loc[0], loc[1]\n",
    "    dec_day = loc[2].timetuple().tm_yday + (loc[2].hour + loc[2].minute/60)/24\n",
    "    local_day = dec_day + lon/360\n",
    "    matching_days = int_local_days_nep == int(local_day)\n",
    "    dists = [np.sqrt((lat-lat2)**2 + (lon-lon2)**2) for lat2, lon2 in zip(lats_nep[matching_days], lons_nep[matching_days])]\n",
    "    if dists:\n",
    "        best_i = np.argmin(dists)\n",
    "        if dists[best_i] > 2:\n",
    "            failed_locs.append(loc)\n",
    "        else:\n",
    "            min_dists.append(dists[best_i])\n",
    "            assert len(scenes_nep[matching_days]) == len(dists)\n",
    "            scene = scenes_nep[matching_days][best_i]\n",
    "            best_scenes.append(scene)\n",
    "            precip_by_scene[scene].append(loc[3])\n",
    "    else:\n",
    "        failed_locs.append(loc)"
   ]
  },
  {
   "cell_type": "code",
   "execution_count": 162,
   "metadata": {},
   "outputs": [
    {
     "name": "stdout",
     "output_type": "stream",
     "text": [
      "type 0 (open): total count is 4\n",
      "type 1 (closed): total count is 4\n",
      "type 2 (homogen): total count is 0\n",
      "type 3 (disorg): total count is 19\n",
      "type 4 (too clear): total count is 0\n",
      "type -1 (NC): total count is 33\n",
      "failed locs (too far): 8\n",
      "0.20154757192328254 0.2576920221147485 0.004395898967535648\n",
      "3.4220401135117426 7.21162939659615 0.07864288016311183\n",
      "4.036152806837552 12.6696389531464 0.014658555050205357\n",
      "4.98424976257631 14.343632712552168 0.04369541852303674\n",
      "failed locs (too far): 8\n"
     ]
    }
   ],
   "source": [
    "scene_dict = {-1: 'NC',\n",
    "              0: 'open',\n",
    "              1: 'closed',\n",
    "              2: 'homogen',\n",
    "              3: 'disorg',\n",
    "              4: 'too clear'}\n",
    "\n",
    "\n",
    "\n",
    "for s, locs in precip_by_scene.items():\n",
    "    print(\"type {} ({}): total count is {}\".format(s, scene_dict[s], len(locs)))\n",
    "print(\"failed locs (too far): {}\".format(len(failed_locs)))\n",
    "\n",
    "\n",
    "\n",
    "for s, locs in precip_by_scene.items():\n",
    "    if len(locs)>0:\n",
    "        mean = np.nanmean(np.concatenate(locs))\n",
    "        nin = np.nanpercentile(np.concatenate(locs), 90)\n",
    "        ten = np.nanpercentile(np.concatenate(locs), 10)\n",
    "        print(mean, nin, ten)\n",
    "        \n",
    "#     print(\"type {} ({}): total count is {}\".format(s, scene_dict[s], num))\n",
    "print(\"failed locs (too far): {}\".format(len(failed_locs)))"
   ]
  },
  {
   "cell_type": "code",
   "execution_count": 209,
   "metadata": {},
   "outputs": [
    {
     "data": {
      "image/png": "[encoded data removed]",
      "text/plain": [
       "<Figure size 432x288 with 3 Axes>"
      ]
     },
     "metadata": {
      "needs_background": "light"
     },
     "output_type": "display_data"
    }
   ],
   "source": [
    "fig, ax = plt.subplots(nrows=3, sharex=True, figsize=(6,4))\n",
    "# ticks = [10, 200, 100, 600]\n",
    "\n",
    "for axi, scene in zip(ax, [1,0,3]):\n",
    "    prcps = np.log10(np.concatenate(precip_by_scene[scene]))\n",
    "#     axi.set_xticks(ticks)\n",
    "#     axi.set_ylabel(\"#\")\n",
    "    axi.hist(np.array(prcps)[~np.isnan(prcps)], density=True, bins=np.linspace(-2, 2, 21))#bins = np.logspace(np.log10(0.01), np.log10(30), 21), log=True)\n",
    "    axi.annotate('{} ($\\mu$={:0.2f})'.format(str(scene_dict[scene]), 10**np.nanmean(prcps)), xy=(0.99, 0.95), xycoords='axes fraction', \n",
    "                 verticalalignment='top', horizontalalignment='right', fontsize=16)\n",
    "ax[2].set_xlabel(r\"$prcp$ (mm day$^{-1}$)\")\n",
    "# ax[2].set_xticks([np.linspace(-1, 2, 6)])\n",
    "ax[2].set_xticklabels([10**i for i in ax[2].get_xticks()])\n",
    "# plt.suptitle(r\"Accum concentration\", y=1.1)\n",
    "# ax[2].set_xscale('log')\n",
    "# ax[2].set_xticks(ticks)\n",
    "# ax[2].set_xticklabels(ticks)\n",
    "\n",
    "fig.tight_layout()\n",
    "\n",
    "fig.savefig(\"/home/disk/user_www/jkcm/misc/agu/precip_pdf.png\", dpi=600, bbox_inches='tight')\n"
   ]
  },
  {
   "cell_type": "code",
   "execution_count": 191,
   "metadata": {},
   "outputs": [
    {
     "name": "stdout",
     "output_type": "stream",
     "text": [
      "light drizzle frac: 60.715990%\n",
      "heavy drizzle frac: 0.000000%\n",
      "light drizzle frac: 17.175573%\n",
      "heavy drizzle frac: 0.000000%\n",
      "light drizzle frac: 37.646722%\n",
      "heavy drizzle frac: 0.000000%\n"
     ]
    }
   ],
   "source": [
    "for axi, scene in zip(ax, [1,0,3]):\n",
    "    prcps = np.concatenate(precip_by_scene[scene])\n",
    "    light_drizzles = np.logical_and(prcps>0.1, prcps<2)\n",
    "    heavy_drizzles = precips>2\n",
    "    \n",
    "    print('light drizzle frac: {:%}'.format(sum(light_drizzles)/sum(~np.isnan(prcps))))\n",
    "    print('heavy drizzle frac: {:%}'.format(sum(heavy_drizzles)/sum(~np.isnan(prcps))))"
   ]
  },
  {
   "cell_type": "code",
   "execution_count": 31,
   "metadata": {},
   "outputs": [],
   "source": [
    "radarlidar_file = r'/home/disk/eos10/imccoy/CSET_RadarLidarData/RF07_COMBINED_HCR_HSRL_data_mask_version4.cdf'\n",
    "data = xr.open_dataset(radarlidar_file)"
   ]
  },
  {
   "cell_type": "code",
   "execution_count": 32,
   "metadata": {},
   "outputs": [
    {
     "data": {
      "text/plain": [
       "<xarray.Dataset>\n",
       "Dimensions:                (layer_no: 20, range: 699, time: 54745)\n",
       "Coordinates:\n",
       "  * range                  (range) float64 40.0 60.0 80.0 100.0 120.0 140.0 ...\n",
       "Dimensions without coordinates: layer_no, time\n",
       "Data variables:\n",
       "    absolute_time          (time) timedelta64[ns] ...\n",
       "    lat                    (time) float32 ...\n",
       "    lon                    (time) float32 ...\n",
       "    alt_msl                (time) float32 ...\n",
       "    ant_elev_angle         (time) float32 ...\n",
       "    ant_az_angle           (time) float32 ...\n",
       "    beta                   (time, range) float32 ...\n",
       "    beta_molecular         (time, range) float32 ...\n",
       "    beta_std               (time, range) float32 ...\n",
       "    ratio_bscat            (time, range) float32 ...\n",
       "    dBZ                    (time, range) float32 ...\n",
       "    vel                    (time, range) float32 ...\n",
       "    sp_width               (time, range) float32 ...\n",
       "    SNR_HCR                (time, range) float32 ...\n",
       "    combined_mask          (time, range) float32 ...\n",
       "    hsrl_attenuation_mask  (time, range) float32 ...\n",
       "    layer_top              (layer_no, time) float32 ...\n",
       "    layer_bot              (layer_no, time) float32 ...\n",
       "    layer_count            (time) float32 ...\n",
       "    lidar_cloud_base       (time) float32 ...\n",
       "    mask_flag              (time) float32 ...\n",
       "Attributes:\n",
       "    Resolution:       HSRL/HCR gridded to 2 Hz, 20 m vertical resolution\n",
       "    Nav Data Source:  HCR data stream (corrected altitude)"
      ]
     },
     "execution_count": 32,
     "metadata": {},
     "output_type": "execute_result"
    }
   ],
   "source": [
    "data"
   ]
  },
  {
   "cell_type": "code",
   "execution_count": 33,
   "metadata": {},
   "outputs": [
    {
     "data": {
      "text/plain": [
       "<matplotlib.colorbar.Colorbar at 0x7fa852d74898>"
      ]
     },
     "execution_count": 33,
     "metadata": {},
     "output_type": "execute_result"
    },
    {
     "data": {
      "image/png": "[encoded data removed]",
      "text/plain": [
       "<Figure size 432x288 with 2 Axes>"
      ]
     },
     "metadata": {
      "needs_background": "light"
     },
     "output_type": "display_data"
    }
   ],
   "source": [
    "dbz = data.dBZ.T.values\n",
    "dbz[dbz<-2000] = np.nan\n",
    "\n",
    "# data.dBZ.where(data.dBZ<-2000) = np.nan\n",
    "plt.imshow(dbz, aspect='auto')\n",
    "plt.colorbar()"
   ]
  },
  {
   "cell_type": "code",
   "execution_count": 34,
   "metadata": {},
   "outputs": [
    {
     "data": {
      "text/plain": [
       "[<matplotlib.lines.Line2D at 0x7fa852d2ba90>]"
      ]
     },
     "execution_count": 34,
     "metadata": {},
     "output_type": "execute_result"
    },
    {
     "data": {
      "image/png": "[encoded data removed]",
      "text/plain": [
       "<Figure size 432x288 with 2 Axes>"
      ]
     },
     "metadata": {
      "needs_background": "light"
     },
     "output_type": "display_data"
    }
   ],
   "source": [
    "plt.plot(data.ant_elev_angle)\n",
    "ax2 = plt.twinx()\n",
    "ax2.plot(data.alt_msl,'r')"
   ]
  },
  {
   "cell_type": "code",
   "execution_count": null,
   "metadata": {},
   "outputs": [],
   "source": []
  }
 ],
 "metadata": {
  "kernelspec": {
   "display_name": "Python 3",
   "language": "python",
   "name": "python3"
  },
  "language_info": {
   "codemirror_mode": {
    "name": "ipython",
    "version": 3
   },
   "file_extension": ".py",
   "mimetype": "text/x-python",
   "name": "python",
   "nbconvert_exporter": "python",
   "pygments_lexer": "ipython3",
   "version": "3.7.3"
  }
 },
 "nbformat": 4,
 "nbformat_minor": 4
}
