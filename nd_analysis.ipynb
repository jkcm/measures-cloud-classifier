{
 "cells": [
  {
   "cell_type": "code",
   "execution_count": 1,
   "metadata": {},
   "outputs": [],
   "source": [
    "import glob\n",
    "import xarray as xr\n",
    "import os\n",
    "import numpy as np\n",
    "import warnings\n",
    "import sys\n",
    "import pickle\n",
    "import matplotlib.pyplot as plt\n",
    "sys.path.insert(0, '/home/disk/p/jkcm/Code')\n",
    "from Lagrangian_CSET.CSET_data_classes import CSET_Flight\n",
    "from Lagrangian_CSET import utils\n",
    "from Lagrangian_CSET import met_utils as mu\n",
    "from Lagrangian_CSET.LoopTimer import LoopTimer\n",
    "%load_ext autoreload\n",
    "%autoreload 2"
   ]
  },
  {
   "cell_type": "code",
   "execution_count": 2,
   "metadata": {},
   "outputs": [],
   "source": [
    "scene_dict = {-1: 'NC',\n",
    "              0: 'open',\n",
    "              1: 'closed',\n",
    "              2: 'homogen',\n",
    "              3: 'disorg',\n",
    "              4: 'too clear'}\n",
    "\n",
    "\n",
    "def get_flight_nd(lat, lon, time, degrees):\n",
    "    pass\n",
    "    # get flight from time\n",
    "    # get flight_data from near lat, lon\n",
    "    # return "
   ]
  },
  {
   "cell_type": "code",
   "execution_count": 3,
   "metadata": {},
   "outputs": [],
   "source": [
    "x = utils.read_CSET_Lookup_Table(rf_num='all', sequences='all', legs=['c', 'p', 'd'], \n",
    "                                 variables=['Date', 'ST', 'ET', 'uhsas_conc1_M', 'Lat_S', 'Lat_E', 'Lon_S', 'Lon_E'])\n",
    "start_dates = [utils.CSET_date_from_table(x['Date']['values'][i], x['ST']['values'][i])\n",
    "               for i in range(len(x['Date']['values']))]\n",
    "end_dates = [utils.CSET_date_from_table(x['Date']['values'][i], x['ET']['values'][i])\n",
    "             for i in range(len(x['Date']['values']))]\n",
    "lats = (x['Lat_S']['values'] + x['Lat_E']['values'])/2\n",
    "lons = (x['Lon_S']['values'] + x['Lon_E']['values'])/2\n",
    "times = [utils.CSET_date_from_table(x['Date']['values'][i], (x['ST']['values'][i]+x['ET']['values'][i])/2)\n",
    "               for i in range(len(x['Date']['values']))]\n",
    "Nds = x['uhsas_conc1_M']['values']\n",
    "Nds[Nds=='-'] = np.nan\n",
    "Nds = Nds.astype(float)\n",
    "locs = np.array([lats, lons, times, Nds]).T"
   ]
  },
  {
   "cell_type": "code",
   "execution_count": 5,
   "metadata": {},
   "outputs": [],
   "source": [
    "data_loc = r'/home/disk/eos4/jkcm/Data/CSET/Python/'\n",
    "with open(os.path.join(data_loc, 'nep_scenes.pickle'), 'rb') as f:\n",
    "    nep_scenes = pickle.load(f)\n",
    "\n",
    "lats_nep = nep_scenes['lats_nep']\n",
    "lons_nep = nep_scenes['lons_nep']\n",
    "int_local_days_nep = nep_scenes['int_local_days_nep']\n",
    "scenes_nep = nep_scenes['scenes_nep']"
   ]
  },
  {
   "cell_type": "code",
   "execution_count": 6,
   "metadata": {},
   "outputs": [],
   "source": [
    "min_dists = []\n",
    "best_scenes = []\n",
    "failed_locs = []\n",
    "nd_by_scene = {-1: [],\n",
    "                 0: [],\n",
    "                 1: [],\n",
    "                 2: [],\n",
    "                 3: [],\n",
    "                 4: []}\n",
    "for i, loc in enumerate(locs):\n",
    "    lat, lon = loc[0], loc[1]\n",
    "    dec_day = loc[2].timetuple().tm_yday + (loc[2].hour + loc[2].minute/60)/24\n",
    "    local_day = dec_day + lon/360\n",
    "    matching_days = int_local_days_nep == int(local_day)\n",
    "    dists = [np.sqrt((lat-lat2)**2 + (lon-lon2)**2) for lat2, lon2 in zip(lats_nep[matching_days], lons_nep[matching_days])]\n",
    "    if dists:\n",
    "        best_i = np.argmin(dists)\n",
    "        if dists[best_i] > 2:\n",
    "            failed_locs.append(loc)\n",
    "        else:\n",
    "            min_dists.append(dists[best_i])\n",
    "            assert len(scenes_nep[matching_days]) == len(dists)\n",
    "            scene = scenes_nep[matching_days][best_i]\n",
    "            best_scenes.append(scene)\n",
    "            nd_by_scene[scene].append(loc[3])\n",
    "    else:\n",
    "        failed_locs.append(loc)"
   ]
  },
  {
   "cell_type": "code",
   "execution_count": 7,
   "metadata": {},
   "outputs": [
    {
     "name": "stdout",
     "output_type": "stream",
     "text": [
      "type 0 (open): total count is 13\n",
      "type 1 (closed): total count is 12\n",
      "type 2 (homogen): total count is 0\n",
      "type 3 (disorg): total count is 33\n",
      "type 4 (too clear): total count is 0\n",
      "type -1 (NC): total count is 103\n",
      "failed locs (too far): 24\n"
     ]
    }
   ],
   "source": [
    "for s, locs in nd_by_scene.items():\n",
    "    print(\"type {} ({}): total count is {}\".format(s, scene_dict[s], len(locs)))\n",
    "print(\"failed locs (too far): {}\".format(len(failed_locs)))"
   ]
  },
  {
   "cell_type": "code",
   "execution_count": 46,
   "metadata": {},
   "outputs": [
    {
     "data": {
      "image/png": "[encoded data removed]",
      "text/plain": [
       "<Figure size 600x400 with 3 Axes>"
      ]
     },
     "metadata": {
      "needs_background": "light"
     },
     "output_type": "display_data"
    }
   ],
   "source": [
    "fig, ax = plt.subplots(nrows=3, sharex=True, figsize=(6,4))\n",
    "ticks = [20, 200, 100, 300, 600]\n",
    "\n",
    "for axi, scene in zip(ax, [1,0,3]):\n",
    "    nds = nd_by_scene[scene]\n",
    "    axi.set_xticks(ticks)\n",
    "#     axi.set_ylabel(\"#\")\n",
    "    axi.hist(np.array(nds)[~np.isnan(nds)], density=True)#, bins = np.logspace(np.log10(5), np.log10(300), 21))\n",
    "    axi.annotate('{} ($\\mu$={:0.0f})'.format(str(scene_dict[scene]), np.nanmean(nds)), xy=(0.99, 0.95), xycoords='axes fraction', \n",
    "                 verticalalignment='top', horizontalalignment='right', fontsize=16)\n",
    "ax[2].set_xlabel(r\"$N_a$ ($cm^{-3}$)\")\n",
    "# plt.suptitle(r\"Accum concentration\", y=1.1)\n",
    "# ax[2].set_xscale('log')\n",
    "ax[2].set_xticks(ticks)\n",
    "ax[2].set_xlim((0,700))\n",
    "ax[2].set_xticklabels(ticks)\n",
    "\n",
    "fig.tight_layout()\n",
    "\n",
    "fig.savefig(\"/home/disk/user_www/jkcm/misc/agu/aerosol_pdf.png\", dpi=600, bbox_inches='tight')\n"
   ]
  },
  {
   "cell_type": "code",
   "execution_count": null,
   "metadata": {},
   "outputs": [],
   "source": []
  }
 ],
 "metadata": {
  "kernelspec": {
   "display_name": "Python 3",
   "language": "python",
   "name": "python3"
  },
  "language_info": {
   "codemirror_mode": {
    "name": "ipython",
    "version": 3
   },
   "file_extension": ".py",
   "mimetype": "text/x-python",
   "name": "python",
   "nbconvert_exporter": "python",
   "pygments_lexer": "ipython3",
   "version": "3.7.3"
  }
 },
 "nbformat": 4,
 "nbformat_minor": 4
}
