{
 "cells": [
  {
   "cell_type": "code",
   "execution_count": 27,
   "metadata": {},
   "outputs": [],
   "source": [
    "new_base_dir = r'/home/disk/eos4/jkcm/Data/MEASURES/classified_data/unified_filtered/good_npz'\n",
    "filter_dir = r'/home/disk/eos4/jkcm/Data/MEASURES/classified_data/unified_filtered/good'\n",
    "old_base_dir = r'/home/disk/eos4/jkcm/Data/MEASURES/classified_data/npz/'\n",
    "matching = {'cat1': 'closed_mcc', \n",
    "           'cat2': 'clustered_cu',\n",
    "           'cat3': 'disorg_mcc',\n",
    "           'cat4': 'open_mcc',\n",
    "           'cat5': 'other',\n",
    "           'cat6': 'solid_sc',\n",
    "           'cat7': 'suppressed_cu'}\n",
    "\n",
    "rev_matching = dict([v,k] for k,v in matching.items())\n",
    "\n",
    "\n",
    "def check_file(filename, cat):\n",
    "    filtered_list = [f[:-10] for f in os.listdir(os.path.join(filter_dir, matching[cat]))]\n",
    "    file_match = filename[4:-17]\n",
    "    \n",
    "#     print(filtered_list[1])\n",
    "#     print(file_match)\n",
    "    return file_match in filtered_list\n",
    "\n",
    "for base_fold in [os.path.join(old_base_dir, i) for i in os.listdir(old_base_dir)]:\n",
    "    for cat in os.listdir(base_fold):\n",
    "        cat_fold = os.path.join(base_fold, cat)\n",
    "        files = os.listdir(cat_fold)\n",
    "        files_to_copy = []\n",
    "        for f in files: \n",
    "            if check_file(f, cat):\n",
    "                files_to_copy.append(f)\n",
    "        for f in files_to_copy:\n",
    "            src = os.path.join(cat_fold, f)\n",
    "            dst = os.path.join(new_base_dir, matching[cat], f)\n",
    "            if not os.path.exists(os.path.join(new_base_dir, matching[cat])):\n",
    "                os.mkdir(os.path.join(new_base_dir, matching[cat]))\n",
    "#             os.link(src, dst)\n",
    "#         print('{}: {}/{}'.format(cat, len(files_to_copy), len(files)))\n",
    "    "
   ]
  },
  {
   "cell_type": "code",
   "execution_count": 63,
   "metadata": {},
   "outputs": [],
   "source": [
    "#MAKE SOME DATES\n",
    "import datetime as dt\n",
    "\n",
    "s = r'https://ladsweb.modaps.eosdis.nasa.gov/search/order/4/MYD03--61/2015-07-01..2015-07-14/D/World'\n",
    "s_pat = r'https://ladsweb.modaps.eosdis.nasa.gov/search/order/4/MYDATML2--61/{:%Y-%m-%d}..{:%Y-%m-%d}/D/World'"
   ]
  },
  {
   "cell_type": "code",
   "execution_count": 64,
   "metadata": {},
   "outputs": [],
   "source": [
    "date1 = dt.datetime(2015, 7, 1)\n",
    "dates = [date1 + dt.timedelta(days=i*14) for i in range(33)]\n",
    "dates.append(dt.datetime(2016,10,1))"
   ]
  },
  {
   "cell_type": "code",
   "execution_count": 65,
   "metadata": {},
   "outputs": [],
   "source": [
    "date_pairs = [(dates[i], dates[i+1]-dt.timedelta(days=1)) for i in range(len(dates))[:-1]]"
   ]
  },
  {
   "cell_type": "code",
   "execution_count": 66,
   "metadata": {},
   "outputs": [],
   "source": [
    "url_list = [s_pat.format(i[0], i[1]) for i in date_pairs]"
   ]
  },
  {
   "cell_type": "code",
   "execution_count": 12,
   "metadata": {},
   "outputs": [],
   "source": [
    "csv_list =[os.path.join(r'/home/disk/eos4/jkcm/Data/MEASURES/MODIS_downloads', i) for i in  os.listdir(r'/home/disk/eos4/jkcm/Data/MEASURES/MODIS_downloads')]"
   ]
  },
  {
   "cell_type": "code",
   "execution_count": 25,
   "metadata": {},
   "outputs": [],
   "source": [
    "df = pd.read_csv(csv_list[0])\n",
    "for f in csv_list[1:]:\n",
    "    df_1 = pd.read_csv(f)\n",
    "    df.append(df_1, ignore_index=True, sort=True)"
   ]
  },
  {
   "cell_type": "code",
   "execution_count": 58,
   "metadata": {},
   "outputs": [],
   "source": [
    "files = df[df.columns[1]].values\n",
    "def swap_in_type(filename, old, new):\n",
    "    return new.join(filename.split(old))\n",
    "atm1_files = [swap_in_type(i, old=\"MYD03\", new=\"MYDATML2\") for i in files]\n",
    "atm1_files = [swap_in_type(i, old=\"2018061172505\", new=\"2018062092534\") for i in atm1_files]\n",
    "laads_prefix = r'https://ladsweb.modaps.eosdis.nasa.gov'\n",
    "all_files = [laads_prefix+i for i in atm1_files]"
   ]
  },
  {
   "cell_type": "code",
   "execution_count": null,
   "metadata": {},
   "outputs": [],
   "source": [
    "ATML2_files = glob.glob(r'/home/disk/eos4/jkcm/Data/MEASURES/MODIS_downloads/MYDATML2/MYD*.hdf')\n",
    "def land_frac(granule_file):\n",
    "    with xr.open_dataset(granule_file) as d:\n",
    "        land_pts = [globe.is_land(i,j) for i,j in zip(d.Latitude.values.flatten()[::200], d.Longitude.values.flatten()[::200])]\n",
    "    return np.sum(land_pts)/len(land_pts)\n",
    "# all_land_frac = [land_frac(i) for i in ATML2_files]\n",
    "lt = LoopTimer(len(ATML2_files))\n",
    "all_land_frac = []\n",
    "problem_cases = []\n",
    "for i in ATML2_files:\n",
    "    lt.update()\n",
    "    try:\n",
    "        all_land_frac.append(land_frac(i))\n",
    "    except IndexError as e:\n",
    "        all_land_frac.append(np.nan)\n",
    "        problem_cases.append((i,e))"
   ]
  },
  {
   "cell_type": "code",
   "execution_count": 25,
   "metadata": {},
   "outputs": [],
   "source": [
    "#make updated download list, excluding already downloaded files\n",
    "laads_prefix = r'https://ladsweb.modaps.eosdis.nasa.gov'\n",
    "\n",
    "list_of_existing_files = [os.path.basename(i) for i in glob.glob(r'/home/disk/eos4/jkcm/Data/MEASURES/MODIS_downloads/MYDATML2/MYD*.hdf')]\n",
    "list_of_all_files = [os.path.basename(i) for i in atml2_files]\n",
    "files_still_to_get = [laads_prefix+i for i,j in zip(atml2_files, list_of_all_files) if i not in list_of_existing_files]"
   ]
  },
  {
   "cell_type": "code",
   "execution_count": 27,
   "metadata": {},
   "outputs": [],
   "source": [
    "save_file = r'/home/disk/eos4/jkcm/Data/MEASURES/MODIS_downloads/MYDATML2/updated_list_of_MYDATML2_files.txt'\n",
    "with open(save_file, 'w') as f:\n",
    "    for fname in files_still_to_get:\n",
    "        f.writelines(fname+'\\n')"
   ]
  },
  {
   "cell_type": "code",
   "execution_count": 2,
   "metadata": {},
   "outputs": [],
   "source": [
    "from MEASURES_process_utils import convert_csv_to_wget_list\n",
    "fname = '/home/disk/eos9/jkcm/Data/modis/SEP/LAADS_query.2019-12-10T06_51.csv'\n",
    "_ = convert_csv_to_wget_list(fname)"
   ]
  },
  {
   "cell_type": "code",
   "execution_count": 4,
   "metadata": {},
   "outputs": [],
   "source": [
    "import os\n",
    "import glob"
   ]
  },
  {
   "cell_type": "code",
   "execution_count": 16,
   "metadata": {},
   "outputs": [
    {
     "data": {
      "text/plain": [
       "'A2015185.1610'"
      ]
     },
     "execution_count": 16,
     "metadata": {},
     "output_type": "execute_result"
    }
   ],
   "source": [
    "MOD02_file = r'MYD021KM.A2015185.1610.061.2018050124556.hdf'\n",
    "MOD06_folder = r'/home/disk/eos9/jkcm/Data/modis/MYD06/'\n",
    "'.'.join(os.path.basename(MOD02_file).split('.')[1:3:])"
   ]
  },
  {
   "cell_type": "code",
   "execution_count": null,
   "metadata": {},
   "outputs": [],
   "source": [
    "glob.glob(os.path.join(MOD06_folder, 'MYD06*'))"
   ]
  },
  {
   "cell_type": "code",
   "execution_count": 15,
   "metadata": {},
   "outputs": [
    {
     "data": {
      "text/plain": [
       "['2015']"
      ]
     },
     "execution_count": 15,
     "metadata": {},
     "output_type": "execute_result"
    }
   ],
   "source": [
    "os.listdir(MOD06_folder)"
   ]
  },
  {
   "cell_type": "code",
   "execution_count": 42,
   "metadata": {},
   "outputs": [
    {
     "name": "stdout",
     "output_type": "stream",
     "text": [
      "bernana!\n"
     ]
    }
   ],
   "source": [
    "import xarray as xr\n",
    "from netCDF4 import Dataset\n",
    "import matplotlib.pyplot as plt\n",
    "import numpy as np\n",
    "print('bernana!')"
   ]
  },
  {
   "cell_type": "code",
   "execution_count": 6,
   "metadata": {},
   "outputs": [],
   "source": [
    "tfile = r'/home/disk/eos9/jkcm/Data/modis/MYD03/MYD03.A2015228.1725.061.2018051001429.hdf'"
   ]
  },
  {
   "cell_type": "code",
   "execution_count": 21,
   "metadata": {},
   "outputs": [
    {
     "data": {
      "text/plain": [
       "odict_keys(['Latitude', 'Longitude', 'Scan Offset', 'Track Offset', 'Height Offset', 'Height', 'SensorZenith', 'SensorAzimuth', 'Range', 'SolarZenith', 'SolarAzimuth', 'Land/SeaMask', 'WaterPresent', 'gflags', 'Scan number', 'EV frames', 'SD frames', 'SV frames', 'EV start time', 'SD start time', 'SV start time', 'EV center time', 'Mirror side', 'SD Sun zenith', 'SD Sun azimuth', 'Moon Vector', 'L1 scan quality', 'Geo scan quality', 'orb_pos', 'orb_vel', 'T_inst2ECR', 'attitude_angles', 'sun_ref', 'num_impulse', 'impulse_enc', 'impulse_time', 'Scan Type', 'thermal_correction', 'attitude_quality', 'ephemeris_quality', 'Focal_length', 'band_position', 'detector_space', 'detector_offsets', 'T_offset', 'num_samples'])"
      ]
     },
     "execution_count": 21,
     "metadata": {},
     "output_type": "execute_result"
    }
   ],
   "source": [
    "ds = Dataset(tfile)\n",
    "ds.variables.keys()"
   ]
  },
  {
   "cell_type": "code",
   "execution_count": 95,
   "metadata": {},
   "outputs": [],
   "source": [
    "lat = ds.variables['Latitude']\n",
    "lon = ds.variables['Longitude']\n",
    "zen = ds.variables['SensorZenith']\n",
    "ran = ds.variables['Range']\n",
    "def get_dlondx(lat) : return(360/(np.cos(np.deg2rad(lat))*4.0075017e7))\n",
    "dlondx = get_dlondx(lat[:])\n",
    "dxdlon = 1/dlondx/1000\n",
    "dlatdy = 360/4.000786e7\n",
    "dydlat = 1/dlatdy/1000"
   ]
  },
  {
   "cell_type": "code",
   "execution_count": 101,
   "metadata": {},
   "outputs": [
    {
     "data": {
      "text/plain": [
       "<matplotlib.colorbar.Colorbar at 0x7f791994df90>"
      ]
     },
     "execution_count": 101,
     "metadata": {},
     "output_type": "execute_result"
    },
    {
     "data": {
      "image/png": "[encoded data removed]",
      "text/plain": [
       "<Figure size 432x288 with 2 Axes>"
      ]
     },
     "metadata": {
      "needs_background": "light"
     },
     "output_type": "display_data"
    }
   ],
   "source": [
    "lon_grad = np.gradient(lon[:])[1]\n",
    "lat_grad = np.gradient(lat[:])[1]\n",
    "dx = np.abs(lon_grad*dxdlon)\n",
    "dy = np.abs(lat_grad*dydlat)\n",
    "\n",
    "zenmask = np.nanmean(zen[:].filled(), axis=0)<45\n",
    "plt.imshow(lat)\n",
    "plt.colorbar()"
   ]
  },
  {
   "cell_type": "code",
   "execution_count": 91,
   "metadata": {},
   "outputs": [
    {
     "data": {
      "text/plain": [
       "[<matplotlib.lines.Line2D at 0x7f7919b65850>]"
      ]
     },
     "execution_count": 91,
     "metadata": {},
     "output_type": "execute_result"
    },
    {
     "data": {
      "image/png": "[encoded data removed]",
      "text/plain": [
       "<Figure size 432x288 with 1 Axes>"
      ]
     },
     "metadata": {
      "needs_background": "light"
     },
     "output_type": "display_data"
    }
   ],
   "source": [
    "plt.plot(np.nanmean(dx[:,zenmask], axis=0))"
   ]
  },
  {
   "cell_type": "code",
   "execution_count": 65,
   "metadata": {},
   "outputs": [
    {
     "data": {
      "text/plain": [
       "<matplotlib.colorbar.Colorbar at 0x7f791a020750>"
      ]
     },
     "execution_count": 65,
     "metadata": {},
     "output_type": "execute_result"
    },
    {
     "data": {
      "image/png": "[encoded data removed]",
      "text/plain": [
       "<Figure size 432x288 with 2 Axes>"
      ]
     },
     "metadata": {
      "needs_background": "light"
     },
     "output_type": "display_data"
    }
   ],
   "source": [
    "plt.imshow(zen)\n",
    "plt.colorbar()"
   ]
  },
  {
   "cell_type": "code",
   "execution_count": 83,
   "metadata": {},
   "outputs": [
    {
     "data": {
      "text/plain": [
       "array([False, False, False, ..., False, False, False])"
      ]
     },
     "execution_count": 83,
     "metadata": {},
     "output_type": "execute_result"
    }
   ],
   "source": []
  },
  {
   "cell_type": "code",
   "execution_count": 1,
   "metadata": {},
   "outputs": [],
   "source": [
    "import numpy as np"
   ]
  },
  {
   "cell_type": "code",
   "execution_count": 9,
   "metadata": {},
   "outputs": [],
   "source": [
    "sea_data = '/home/disk/eos4/jkcm/Data/MEASURES/beta_data/model_predictions_SEA.npz'\n",
    "data = np.load(sea_data)\n",
    "files, cert, pred = data['files'], data['pred_prob'], data['pred_cat']\n",
    "data.close()"
   ]
  },
  {
   "cell_type": "code",
   "execution_count": 12,
   "metadata": {},
   "outputs": [
    {
     "data": {
      "text/plain": [
       "array([b'IMG_MOD021KM.A2001244.0955.061_index_0896_index_0128.npz',\n",
       "       b'IMG_MOD021KM.A2001244.0955.061_index_1024_index_0128.npz',\n",
       "       b'IMG_MOD021KM.A2001244.0955.061_index_1024_index_0256.npz', ...,\n",
       "       b'IMG_MOD021KM.A2003273.1140.061_index_1536_index_1024.npz',\n",
       "       b'IMG_MOD021KM.A2003273.1140.061_index_1664_index_0896.npz',\n",
       "       b'IMG_MOD021KM.A2003273.1140.061_index_1664_index_1024.npz'],\n",
       "      dtype='|S56')"
      ]
     },
     "execution_count": 12,
     "metadata": {},
     "output_type": "execute_result"
    }
   ],
   "source": [
    "files"
   ]
  },
  {
   "cell_type": "code",
   "execution_count": null,
   "metadata": {},
   "outputs": [],
   "source": []
  }
 ],
 "metadata": {
  "kernelspec": {
   "display_name": "measures",
   "language": "python",
   "name": "measures"
  },
  "language_info": {
   "codemirror_mode": {
    "name": "ipython",
    "version": 3
   },
   "file_extension": ".py",
   "mimetype": "text/x-python",
   "name": "python",
   "nbconvert_exporter": "python",
   "pygments_lexer": "ipython3",
   "version": "3.7.6"
  }
 },
 "nbformat": 4,
 "nbformat_minor": 4
}
