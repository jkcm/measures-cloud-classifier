{
 "cells": [
  {
   "cell_type": "code",
   "execution_count": 12,
   "metadata": {},
   "outputs": [
    {
     "name": "stdout",
     "output_type": "stream",
     "text": [
      "The autoreload extension is already loaded. To reload it, use:\n",
      "  %reload_ext autoreload\n"
     ]
    }
   ],
   "source": [
    "\n",
    "\n",
    "import sys\n",
    "sys.path.insert(0, '/home/disk/p/jkcm/Code')\n",
    "import pickle\n",
    "import matplotlib.pyplot as plt\n",
    "from Lagrangian_CSET import utils\n",
    "from Lagrangian_CSET.LoopTimer import LoopTimer\n",
    "from Lagrangian_CSET.inversion_heights import get_data_from_flight, get_data_from_dropsonde, get_GOES_cloud_top_height\n",
    "import glob\n",
    "import os\n",
    "import numpy as np\n",
    "import warnings\n",
    "# from Lagrangian_CSET import lagrangian_case as lc\n",
    "import datetime as dt\n",
    "\n",
    "\n",
    "from matplotlib import gridspec, rc\n",
    "\n",
    "font = {'family' : 'DejaVu Sans',\n",
    "        'weight' : 'bold',\n",
    "        'size'   : 16}\n",
    "rc('font', **font)\n",
    "\n",
    "\n",
    "%load_ext autoreload\n",
    "%autoreload"
   ]
  },
  {
   "cell_type": "code",
   "execution_count": 13,
   "metadata": {},
   "outputs": [],
   "source": [
    "def get_GOES_cloud_fraction(lat, lon, time, degrees):\n",
    "    \"\"\"\n",
    "    Get the GOES cloud fraction value from to the space/time, filtering for high cloud. Use GOES flight files\n",
    "    \"\"\"\n",
    "    variable_list = ['cloud_phase', 'cloud_top_height', 'cloud_top_temperature']\n",
    "    data = utils.get_GOES_data(variable_list, lat=lat, lon=lon, time=time, degree=degrees)\n",
    "    with warnings.catch_warnings():\n",
    "        warnings.simplefilter(\"ignore\", category=RuntimeWarning)\n",
    "        warm_low_cloud = (\n",
    "                        (data['cloud_phase'] == 1) &\n",
    "                        (data['cloud_top_height'] < 4.) &\n",
    "                        (data['cloud_top_temperature'] > 273.15))\n",
    "        warm_low_cloud_fraction = np.sum(warm_low_cloud) /\\\n",
    "                                float(np.sum((data['cloud_phase'] == 4) | warm_low_cloud))\n",
    "    return warm_low_cloud_fraction    "
   ]
  },
  {
   "cell_type": "code",
   "execution_count": 15,
   "metadata": {},
   "outputs": [
    {
     "name": "stdout",
     "output_type": "stream",
     "text": [
      "processing soundings...\n",
      "\n",
      "1.25%      ETA 16:05:45      time left: 0 seconds       "
     ]
    },
    {
     "ename": "NameError",
     "evalue": "name 'flight_dir' is not defined",
     "output_type": "error",
     "traceback": [
      "\u001b[0;31m---------------------------------------------------------------------------\u001b[0m",
      "\u001b[0;31mNameError\u001b[0m                                 Traceback (most recent call last)",
      "\u001b[0;32m<ipython-input-15-45728e018c55>\u001b[0m in \u001b[0;36m<module>\u001b[0;34m()\u001b[0m\n\u001b[1;32m     50\u001b[0m     \u001b[0;32mfor\u001b[0m \u001b[0mi\u001b[0m \u001b[0;32min\u001b[0m \u001b[0msounding_times\u001b[0m\u001b[0;34m:\u001b[0m\u001b[0;34m\u001b[0m\u001b[0m\n\u001b[1;32m     51\u001b[0m         \u001b[0mlt\u001b[0m\u001b[0;34m.\u001b[0m\u001b[0mupdate\u001b[0m\u001b[0;34m(\u001b[0m\u001b[0;34m)\u001b[0m\u001b[0;34m\u001b[0m\u001b[0m\n\u001b[0;32m---> 52\u001b[0;31m         \u001b[0msoundings\u001b[0m\u001b[0;34m.\u001b[0m\u001b[0mappend\u001b[0m\u001b[0;34m(\u001b[0m\u001b[0mget_data_from_flight\u001b[0m\u001b[0;34m(\u001b[0m\u001b[0mi\u001b[0m\u001b[0;34m[\u001b[0m\u001b[0;36m0\u001b[0m\u001b[0;34m]\u001b[0m\u001b[0;34m,\u001b[0m \u001b[0mi\u001b[0m\u001b[0;34m[\u001b[0m\u001b[0;36m1\u001b[0m\u001b[0;34m]\u001b[0m\u001b[0;34m,\u001b[0m \u001b[0mi\u001b[0m\u001b[0;34m[\u001b[0m\u001b[0;36m2\u001b[0m\u001b[0;34m]\u001b[0m\u001b[0;34m,\u001b[0m \u001b[0mvar_list\u001b[0m\u001b[0;34m)\u001b[0m\u001b[0;34m)\u001b[0m\u001b[0;34m\u001b[0m\u001b[0m\n\u001b[0m\u001b[1;32m     53\u001b[0m \u001b[0;34m\u001b[0m\u001b[0m\n\u001b[1;32m     54\u001b[0m     \u001b[0madd_dropsondes\u001b[0m \u001b[0;34m=\u001b[0m \u001b[0;32mTrue\u001b[0m\u001b[0;34m\u001b[0m\u001b[0m\n",
      "\u001b[0;32m<ipython-input-15-45728e018c55>\u001b[0m in \u001b[0;36mget_data_from_flight\u001b[0;34m(flight_num, start, end, var_list)\u001b[0m\n\u001b[1;32m      1\u001b[0m \u001b[0;32mdef\u001b[0m \u001b[0mget_data_from_flight\u001b[0m\u001b[0;34m(\u001b[0m\u001b[0mflight_num\u001b[0m\u001b[0;34m,\u001b[0m \u001b[0mstart\u001b[0m\u001b[0;34m=\u001b[0m\u001b[0;32mNone\u001b[0m\u001b[0;34m,\u001b[0m \u001b[0mend\u001b[0m\u001b[0;34m=\u001b[0m\u001b[0;32mNone\u001b[0m\u001b[0;34m,\u001b[0m \u001b[0mvar_list\u001b[0m\u001b[0;34m=\u001b[0m\u001b[0;34m[\u001b[0m\u001b[0;34m]\u001b[0m\u001b[0;34m)\u001b[0m\u001b[0;34m:\u001b[0m\u001b[0;34m\u001b[0m\u001b[0m\n\u001b[1;32m      2\u001b[0m \u001b[0;34m\u001b[0m\u001b[0m\n\u001b[0;32m----> 3\u001b[0;31m     \u001b[0mflight_file\u001b[0m \u001b[0;34m=\u001b[0m \u001b[0mglob\u001b[0m\u001b[0;34m.\u001b[0m\u001b[0mglob\u001b[0m\u001b[0;34m(\u001b[0m\u001b[0mos\u001b[0m\u001b[0;34m.\u001b[0m\u001b[0mpath\u001b[0m\u001b[0;34m.\u001b[0m\u001b[0mjoin\u001b[0m\u001b[0;34m(\u001b[0m\u001b[0mflight_dir\u001b[0m\u001b[0;34m,\u001b[0m \u001b[0;34m'RF{:02d}*.nc'\u001b[0m\u001b[0;34m.\u001b[0m\u001b[0mformat\u001b[0m\u001b[0;34m(\u001b[0m\u001b[0mflight_num\u001b[0m\u001b[0;34m)\u001b[0m\u001b[0;34m)\u001b[0m\u001b[0;34m)\u001b[0m\u001b[0;34m[\u001b[0m\u001b[0;36m0\u001b[0m\u001b[0;34m]\u001b[0m\u001b[0;34m\u001b[0m\u001b[0m\n\u001b[0m\u001b[1;32m      4\u001b[0m     \u001b[0mdata\u001b[0m \u001b[0;34m=\u001b[0m \u001b[0mxr\u001b[0m\u001b[0;34m.\u001b[0m\u001b[0mopen_dataset\u001b[0m\u001b[0;34m(\u001b[0m\u001b[0mflight_file\u001b[0m\u001b[0;34m,\u001b[0m \u001b[0mdecode_times\u001b[0m\u001b[0;34m=\u001b[0m\u001b[0;32mFalse\u001b[0m\u001b[0;34m)\u001b[0m\u001b[0;34m\u001b[0m\u001b[0m\n\u001b[1;32m      5\u001b[0m     \u001b[0mdata\u001b[0m\u001b[0;34m[\u001b[0m\u001b[0;34m'time'\u001b[0m\u001b[0;34m]\u001b[0m \u001b[0;34m=\u001b[0m \u001b[0mnc\u001b[0m\u001b[0;34m.\u001b[0m\u001b[0mnum2date\u001b[0m\u001b[0;34m(\u001b[0m\u001b[0mdata\u001b[0m\u001b[0;34m.\u001b[0m\u001b[0mTime\u001b[0m\u001b[0;34m[\u001b[0m\u001b[0;34m:\u001b[0m\u001b[0;34m]\u001b[0m\u001b[0;34m,\u001b[0m\u001b[0munits\u001b[0m\u001b[0;34m=\u001b[0m\u001b[0mdata\u001b[0m\u001b[0;34m.\u001b[0m\u001b[0mTime\u001b[0m\u001b[0;34m.\u001b[0m\u001b[0munits\u001b[0m\u001b[0;34m)\u001b[0m\u001b[0;34m\u001b[0m\u001b[0m\n",
      "\u001b[0;31mNameError\u001b[0m: name 'flight_dir' is not defined"
     ]
    }
   ],
   "source": [
    "def get_data_from_flight(flight_num, start=None, end=None, var_list=[]):\n",
    "\n",
    "    flight_file = glob.glob(os.path.join(flight_dir, 'RF{:02d}*.nc'.format(flight_num)))[0]\n",
    "    data = xr.open_dataset(flight_file, decode_times=False)\n",
    "    data['time'] = nc.num2date(data.Time[:],units=data.Time.units)\n",
    "    dates = utils.as_datetime(data.Time.values)\n",
    "    alt = data['GGALT'].values\n",
    "    if start is None:\n",
    "        start = dates[0]\n",
    "    if end is None:\n",
    "        end = dates[-1]\n",
    "    with warnings.catch_warnings():\n",
    "        warnings.simplefilter(\"ignore\", category=RuntimeWarning)\n",
    "        index = np.logical_and(np.logical_and(dates >= start, dates <= end), alt < 3600)\n",
    "    \n",
    "    [(k, v.long_name) for k,v in data.data_vars.items() if 'Pres' in v.long_name]\n",
    "    ret = {}\n",
    "    ret['TIME'] = dates[index]\n",
    "    for i in var_list:\n",
    "        if i == 'ATX':\n",
    "            ret[i] = data[i].values[index]+273.15\n",
    "        else:\n",
    "            ret[i] = data[i].values[index]\n",
    "    \n",
    "    ret['DENS'] = mu.density_from_p_Tv(data['PSX'].values[index]*100, data['TVIR'].values[index]+273.15)  \n",
    "    ret['QL'] = data['PLWCC'].values[index]/ret['DENS']\n",
    "    ret['THETAL'] = mu.get_liquid_water_theta(ret['ATX'], ret['THETA'], ret['QL'])\n",
    "    ret['QV'] = data['MR'].values[index]/(1+data['MR'].values[index]/1000)\n",
    "    return ret    \n",
    "\n",
    "with warnings.catch_warnings():\n",
    "    warnings.simplefilter(\"ignore\", category=RuntimeWarning)\n",
    "    path = r'/home/disk/eos4/jkcm/Data/CSET/LookupTable_all_flights.xls'\n",
    "    flight = utils.read_CSET_Lookup_Table(path, \n",
    "                                       rf_num='all', \n",
    "                                       legs=['d', 'k'],\n",
    "                                       variables=['Date', 'ST', 'ET'])\n",
    "    start_times = utils.as_datetime([utils.CSET_date_from_table(d, t) for d, t in\n",
    "                   zip(flight['Date']['values'], flight['ST']['values'])])\n",
    "    end_times = utils.as_datetime([utils.CSET_date_from_table(d, t) for d, t in\n",
    "                 zip(flight['Date']['values'], flight['ET']['values'])])\n",
    "    sounding_times = list(zip(flight['rf'], start_times, end_times))\n",
    "\n",
    "    # %% read in data    \n",
    "    # get flight info for each sounding\n",
    "    var_list = ['GGLAT', 'GGLON', 'GGALT', 'RHUM', 'ATX', 'MR', 'THETAE', 'THETA', 'PSX', 'DPXC', 'PLWCC']\n",
    "    soundings = []\n",
    "    lt = LoopTimer(len(sounding_times))\n",
    "    print(\"processing soundings...\\n\")\n",
    "    for i in sounding_times:\n",
    "        lt.update()\n",
    "        soundings.append(get_data_from_flight(i[0], i[1], i[2], var_list))\n",
    "\n",
    "    add_dropsondes = True\n",
    "    if add_dropsondes:\n",
    "        sondes = []\n",
    "        sonde_files = glob.glob(os.path.join(utils.dropsonde_dir, \"*.nc\"))\n",
    "        for f in sonde_files:\n",
    "            sondes.append(get_data_from_dropsonde(f))\n",
    "\n",
    "\n",
    "\n",
    "    # %% calc inv and dec \n",
    "    # get inversion height estimates for each sounding\n",
    "    heights = []\n",
    "    for i, snd in enumerate(soundings):\n",
    "        heights.append(mu.calc_zi_from_sounding(snd))\n",
    "\n",
    "    snd_heights = []\n",
    "    for sonde in sondes:\n",
    "        snd_heights.append(mu.calc_zi_from_sounding(sonde))\n",
    "\n",
    "    # get decoupling ests for each sounding\n",
    "    decouplings = []\n",
    "    lt = LoopTimer(len(soundings))\n",
    "    print(\"processing decouplings...\\n\")\n",
    "    for i, snd in enumerate(soundings):\n",
    "        lt.update(i)\n",
    "        decouplings.append(mu.calc_decoupling_from_sounding(snd))\n",
    "\n",
    "    snd_decouplings = []\n",
    "    for sonde in sondes:\n",
    "        snd_decouplings.append(mu.calc_decoupling_from_sounding(sonde, usetheta=True))\n",
    "\n",
    "    # %% get goes data\n",
    "    percentiles = [50, 75, 90, 95]\n",
    "    all_GOES_percentiles = {}\n",
    "    lt = LoopTimer(len(heights + snd_heights)*len(percentiles))\n",
    "    print(\"processing GOES CTH percentiles...\\n\")\n",
    "    for percentile in percentiles:\n",
    "        GOES_cth = []\n",
    "        for i, hgt in enumerate((heights + snd_heights)):\n",
    "            lt.update()\n",
    "            goes_hgt = get_GOES_cloud_top_height(hgt['lat'], hgt['lon'], hgt['time'], percentile=percentile, degrees=1)\n",
    "            GOES_cth.append(goes_hgt)\n",
    "        all_GOES_percentiles[str(percentile)] = np.array(GOES_cth)"
   ]
  },
  {
   "cell_type": "code",
   "execution_count": 48,
   "metadata": {},
   "outputs": [
    {
     "name": "stdout",
     "output_type": "stream",
     "text": [
      "processing GOES CF...]n\n",
      "100.00%      ETA 12:51:38      time left: 0 seconds       "
     ]
    }
   ],
   "source": [
    "    GOES_CF = []\n",
    "    lt = LoopTimer(len(heights + snd_heights))\n",
    "    print(\"processing GOES CF...]n\")\n",
    "    for i, hgt in enumerate((heights + snd_heights)):\n",
    "        lt.update()\n",
    "        cf = get_GOES_cloud_fraction(hgt['lat'], hgt['lon'], hgt['time'], degrees=2)\n",
    "        GOES_CF.append(cf)"
   ]
  },
  {
   "cell_type": "code",
   "execution_count": 71,
   "metadata": {},
   "outputs": [],
   "source": [
    "source = np.concatenate((np.full_like(heights, fill_value='gv'), np.full_like(snd_heights, fill_value='sonde')))\n",
    "all_heights = heights + snd_heights\n",
    "all_decouplings = decouplings + snd_decouplings\n",
    "all_soundings = soundings + sondes\n",
    "\n",
    "\n",
    "zi_RHCB = np.empty_like(all_heights, dtype=float)\n",
    "zi_Heff_bot = np.empty_like(zi_RHCB)\n",
    "zi_Heff_top = np.empty_like(zi_RHCB)\n",
    "zi_RH50 = np.empty_like(zi_RHCB)\n",
    "lon_p = np.empty_like(zi_RHCB)\n",
    "d_theta_e = np.empty_like(zi_RHCB)\n",
    "d_theta_l = np.empty_like(zi_RHCB)\n",
    "d_qt = np.empty_like(zi_RHCB)\n",
    "alpha_thetae = np.empty_like(zi_RHCB)\n",
    "alpha_thetal = np.empty_like(zi_RHCB)\n",
    "alpha_qt = np.empty_like(zi_RHCB)\n",
    "goes_cf = np.empty_like(zi_RHCB)\n",
    "lats = np.empty_like(zi_RHCB)\n",
    "lons = np.empty_like(zi_RHCB)\n",
    "Heff_inv_flag = np.empty_like(zi_RHCB)\n",
    "RHCB_inv_flag = np.empty_like(zi_RHCB)\n",
    "time = np.empty_like(zi_RHCB, dtype='object')\n",
    "\n",
    "for i, (hgt, dec) in enumerate(zip(all_heights, all_decouplings)):\n",
    "    zi_RHCB[i] = hgt['RHCB']['z']\n",
    "    time[i] = hgt['time']\n",
    "    RHCB_inv_flag[i] = hgt['RHCB']['inversion']\n",
    "    zi_RH50[i] = hgt['RH50']['z']\n",
    "    zi_Heff_bot[i] = hgt['Heff']['z_bot']\n",
    "    zi_Heff_top[i] = hgt['Heff']['z_top']\n",
    "    Heff_inv_flag[i] = hgt['Heff']['inversion']\n",
    "    lon_p[i] = hgt['lon_p']\n",
    "    d_theta_e[i] = dec['d_theta_e']\n",
    "    d_theta_l[i] = dec['d_theta_l']\n",
    "    d_qt[i] = dec['d_qt']\n",
    "    alpha_thetae[i] = dec['alpha_thetae']\n",
    "    alpha_thetal[i] = dec['alpha_thetal']\n",
    "    alpha_qt[i] = dec['alpha_qt']\n",
    "    lats[i] = hgt['lat']\n",
    "    lons[i] = hgt['lon']\n",
    "\n",
    "x = np.argsort(lon_p)\n",
    "\n",
    "to_exclude = [151]\n",
    "x = [i for i in x if i not in to_exclude]\n",
    "zi_RHCB = zi_RHCB[x]\n",
    "zi_Heff_bot = zi_Heff_bot[x]\n",
    "zi_Heff_top = zi_Heff_top[x]\n",
    "zi_RH50 = zi_RH50[x]\n",
    "lon_p = lon_p[x]\n",
    "d_theta_e = d_theta_e[x]\n",
    "d_theta_l = d_theta_l[x]\n",
    "d_qt = d_qt[x]\n",
    "source = source[x]\n",
    "time = time[x]\n",
    "RHCB_inv_flag = RHCB_inv_flag[x]\n",
    "Heff_inv_flag = Heff_inv_flag[x]\n",
    "gv_i = source == 'gv'\n",
    "labs = np.argsort(x)\n",
    "alpha_thetae = alpha_thetae[x]\n",
    "alpha_thetal = alpha_thetal[x]\n",
    "alpha_qt = alpha_qt[x]\n",
    "lons = lons[x]\n",
    "lats = lats[x]\n",
    "\n",
    "GOES_sorted = {}\n",
    "for k, v in all_GOES_percentiles.items():\n",
    "    GOES_sorted[k] = v[x]\n",
    "    \n",
    "GOES_CF_sorted = np.array(GOES_CF)[x]"
   ]
  },
  {
   "cell_type": "code",
   "execution_count": 72,
   "metadata": {},
   "outputs": [],
   "source": [
    "save_dict = {\"lon_prime\": lon_p,\n",
    "             \"date\": time,                 \n",
    "             \"Heffter_inversion_base\": zi_Heff_bot,\n",
    "             \"Heffter_inversion_top\": zi_Heff_top,\n",
    "             \"Heffter_inversion_flag\": Heff_inv_flag,\n",
    "             \"RelHum_inversion_base\": zi_RHCB,\n",
    "             \"RHCV_inversion_flag\": RHCB_inv_flag,\n",
    "             \"d_theta\": d_theta_l,\n",
    "             \"d_q\": d_qt,\n",
    "             \"source\": source,\n",
    "             \"lat\": lats,\n",
    "             \"lon\": lons,\n",
    "             \"GOES_CF\": GOES_CF_sorted}\n",
    "\n",
    "savefile = r\"/home/disk/eos4/jkcm/Data/CSET/Python/inversion_and_decoupling.pickle\"\n",
    "with open(savefile, 'wb') as f:\n",
    "   pickle.dump(save_dict, f)\n"
   ]
  },
  {
   "cell_type": "code",
   "execution_count": 69,
   "metadata": {},
   "outputs": [
    {
     "ename": "NameError",
     "evalue": "name 'sc' is not defined",
     "output_type": "error",
     "traceback": [
      "\u001b[0;31m---------------------------------------------------------------------------\u001b[0m",
      "\u001b[0;31mNameError\u001b[0m                                 Traceback (most recent call last)",
      "\u001b[0;32m<ipython-input-69-1126195bbb66>\u001b[0m in \u001b[0;36m<module>\u001b[0;34m()\u001b[0m\n\u001b[1;32m     12\u001b[0m \u001b[0max\u001b[0m\u001b[0;34m.\u001b[0m\u001b[0mset_ylabel\u001b[0m\u001b[0;34m(\u001b[0m\u001b[0;34m'd_q (g/kg)'\u001b[0m\u001b[0;34m)\u001b[0m\u001b[0;34m\u001b[0m\u001b[0m\n\u001b[1;32m     13\u001b[0m \u001b[0max\u001b[0m\u001b[0;34m.\u001b[0m\u001b[0maxhline\u001b[0m\u001b[0;34m(\u001b[0m\u001b[0;36m0.5\u001b[0m\u001b[0;34m,\u001b[0m \u001b[0mls\u001b[0m\u001b[0;34m=\u001b[0m\u001b[0;34m'--'\u001b[0m\u001b[0;34m,\u001b[0m \u001b[0mlabel\u001b[0m\u001b[0;34m=\u001b[0m\u001b[0;34m'Jones et al decoupling threshold'\u001b[0m\u001b[0;34m)\u001b[0m\u001b[0;34m\u001b[0m\u001b[0m\n\u001b[0;32m---> 14\u001b[0;31m \u001b[0mplt\u001b[0m\u001b[0;34m.\u001b[0m\u001b[0mcolorbar\u001b[0m\u001b[0;34m(\u001b[0m\u001b[0msc\u001b[0m\u001b[0;34m,\u001b[0m \u001b[0mlabel\u001b[0m\u001b[0;34m=\u001b[0m\u001b[0;34m'GOES warm low cloud fraction'\u001b[0m\u001b[0;34m)\u001b[0m\u001b[0;34m\u001b[0m\u001b[0m\n\u001b[0m\u001b[1;32m     15\u001b[0m \u001b[0max\u001b[0m\u001b[0;34m.\u001b[0m\u001b[0mlegend\u001b[0m\u001b[0;34m(\u001b[0m\u001b[0;34m)\u001b[0m\u001b[0;34m\u001b[0m\u001b[0m\n\u001b[1;32m     16\u001b[0m \u001b[0mfig\u001b[0m\u001b[0;34m.\u001b[0m\u001b[0msavefig\u001b[0m\u001b[0;34m(\u001b[0m\u001b[0;34m\"/home/disk/p/jkcm/plots/lagrangian_paper_figures/dec_vs_lon_with_cf.png\"\u001b[0m\u001b[0;34m)\u001b[0m\u001b[0;34m\u001b[0m\u001b[0m\n",
      "\u001b[0;31mNameError\u001b[0m: name 'sc' is not defined"
     ]
    },
    {
     "data": {
      "image/png": "[encoded data removed]",
      "text/plain": [
       "<Figure size 468x360 with 1 Axes>"
      ]
     },
     "metadata": {},
     "output_type": "display_data"
    }
   ],
   "source": [
    "fig, ax = plt.subplots(figsize=(10,6))\n",
    "ax.set_title('decoupling vs longitude')\n",
    "ax.plot(lon_p, -d_qt, '.', c='b', label='all GV+dropsondes')\n",
    "ax.plot(lon_p[RF06_i], -d_qt[RF06_i], '.', c='r', label='RF06')\n",
    "# ax.plot(lon_p[~gv_i], -d_qt[~gv_i], '.', c='r', label='dropsondes (q_v only)')\n",
    "\n",
    "# sc = ax.scatter(lon_p[gv_i], -d_qt[gv_i], marker='x', c=GOES_CF_sorted[gv_i], label='GV soundings', cmap='rainbow_r')\n",
    "\n",
    "# sc = ax.scatter(lon_p[gv_i], -d_qt[gv_i], marker='x', c=GOES_CF_sorted[gv_i], label='GV soundings', cmap='rainbow_r')\n",
    "# sc = ax.scatter(lon_p[~gv_i], -d_qt[~gv_i], marker='o', c=GOES_CF_sorted[~gv_i], label='dropsondes (q_v only)', cmap='rainbow_r')\n",
    "ax.set_xlabel('lon-prime (deg)')\n",
    "ax.set_ylabel('d_q (g/kg)')\n",
    "ax.axhline(0.5, ls='--', label='Jones et al decoupling threshold')\n",
    "plt.colorbar(sc, label='GOES warm low cloud fraction')\n",
    "ax.legend()\n",
    "fig.savefig(\"/home/disk/p/jkcm/plots/lagrangian_paper_figures/dec_vs_lon_with_cf.png\")"
   ]
  },
  {
   "cell_type": "code",
   "execution_count": 56,
   "metadata": {},
   "outputs": [],
   "source": [
    "data = pickle.load(open(r\"/home/disk/eos4/jkcm/Data/CSET/Python/inversion_and_decoupling.pickle\", 'rb'))\n",
    "ALC_RF06 = lc.AircraftCase(\"ALC_RF06BC/RF07AB\")\n",
    "ALC_RF10 = lc.AircraftCase(\"ALC_RF10A/RF11DE\")"
   ]
  },
  {
   "cell_type": "code",
   "execution_count": 61,
   "metadata": {},
   "outputs": [],
   "source": [
    "RF06_i = np.logical_and(data['date'] > ALC_RF06.outbound_start_time,\n",
    "                        data['date'] < ALC_RF06.outbound_end_time)\n",
    "RF07_i = np.logical_and(data['date'] > ALC_RF06.return_start_time-dt.timedelta(minutes=0),\n",
    "                        data['date'] < ALC_RF06.return_end_time)\n",
    "RF10_i = np.logical_and(data['date'] > ALC_RF10.outbound_start_time,\n",
    "                        data['date'] < ALC_RF10.outbound_end_time)\n",
    "RF11_i = np.logical_and(data['date'] > ALC_RF10.return_start_time,\n",
    "                        data['date'] < ALC_RF10.return_end_time)\n",
    "\n",
    "lon_p, d_qt = data['lon_prime'], data['d_q']"
   ]
  },
  {
   "cell_type": "code",
   "execution_count": 73,
   "metadata": {},
   "outputs": [
    {
     "data": {
      "image/png": "[encoded data removed]",
      "text/plain": [
       "<Figure size 468x360 with 1 Axes>"
      ]
     },
     "metadata": {},
     "output_type": "display_data"
    }
   ],
   "source": [
    "fig, ax = plt.subplots(figsize=(6.5,5))\n",
    "# ax.set_title('decoupling vs longitude')\n",
    "ax.plot(lon_p, -d_qt, '.', c='k', label='all GV+sondes')\n",
    "ax.plot(lon_p[RF06_i], -d_qt[RF06_i], '.', c='olivedrab', ms=30, label='RF06')\n",
    "ax.plot(lon_p[RF07_i], -d_qt[RF07_i], '*', c='olivedrab', ms=30, label='RF07')\n",
    "ax.plot(lon_p[RF10_i], -d_qt[RF10_i], '.', c='orange', ms=30, label='RF10')\n",
    "ax.plot(lon_p[RF11_i], -d_qt[RF11_i], '*', c='orange', ms=30, label='RF11')\n",
    "\n",
    "# ax.plot(lon_p[~gv_i], -d_qt[~gv_i], '.', c='r', label='dropsondes (q_v only)')\n",
    "\n",
    "# sc = ax.scatter(lon_p[gv_i], -d_qt[gv_i], marker='x', c=GOES_CF_sorted[gv_i], label='GV soundings', cmap='rainbow_r')\n",
    "\n",
    "# sc = ax.scatter(lon_p[gv_i], -d_qt[gv_i], marker='x', c=GOES_CF_sorted[gv_i], label='GV soundings', cmap='rainbow_r')\n",
    "# sc = ax.scatter(lon_p[~gv_i], -d_qt[~gv_i], marker='o', c=GOES_CF_sorted[~gv_i], label='dropsondes (q_v only)', cmap='rainbow_r')\n",
    "ax.set_xlabel('lon-prime (deg)')\n",
    "ax.set_ylabel('d_q (g/kg)')\n",
    "ax.axhline(0.5, ls='--', label='Jones 2011')\n",
    "# plt.colorbar(sc, label='GOES warm low cloud fraction')\n",
    "ax.legend()\n",
    "fig.savefig(\"/home/disk/p/jkcm/plots/lagrangian_paper_figures/dec_vs_lon_with_cf.png\",dpi=300, bbox_inches='tight')"
   ]
  },
  {
   "cell_type": "code",
   "execution_count": null,
   "metadata": {},
   "outputs": [],
   "source": []
  }
 ],
 "metadata": {
  "kernelspec": {
   "display_name": "Python [default]",
   "language": "python",
   "name": "python3"
  },
  "language_info": {
   "codemirror_mode": {
    "name": "ipython",
    "version": 3
   },
   "file_extension": ".py",
   "mimetype": "text/x-python",
   "name": "python",
   "nbconvert_exporter": "python",
   "pygments_lexer": "ipython3",
   "version": "3.5.6"
  }
 },
 "nbformat": 4,
 "nbformat_minor": 2
}
