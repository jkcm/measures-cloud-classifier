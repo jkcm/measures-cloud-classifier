{
 "cells": [
  {
   "cell_type": "code",
   "execution_count": 16,
   "metadata": {},
   "outputs": [],
   "source": [
    "import os\n",
    "import numpy as np\n",
    "import pickle"
   ]
  },
  {
   "cell_type": "code",
   "execution_count": 17,
   "metadata": {},
   "outputs": [],
   "source": [
    "unified_dir = r'/home/disk/eos4/jkcm/Data/MEASURES/classified_data/unified_filtered/'\n",
    "good_dir = os.path.join(unified_dir, 'good')\n",
    "bad_dir = os.path.join(unified_dir, 'bad')"
   ]
  },
  {
   "cell_type": "code",
   "execution_count": 18,
   "metadata": {},
   "outputs": [],
   "source": [
    "good_list = {}\n",
    "bad_list = {}\n",
    "for subdir in os.listdir(good_dir):\n",
    "    good_list[subdir] = os.listdir(os.path.join(good_dir, subdir))\n",
    "    bad_list[subdir] = os.listdir(os.path.join(bad_dir, subdir))"
   ]
  },
  {
   "cell_type": "code",
   "execution_count": 15,
   "metadata": {},
   "outputs": [],
   "source": [
    "save_file = os.path.join(unified_dir, 'file_lists.pkl')\n",
    "with open(save_file, 'wb') as f:\n",
    "    pickle.dump({'good_files': good_list, 'bad_files': bad_list}, f)"
   ]
  },
  {
   "cell_type": "code",
   "execution_count": 24,
   "metadata": {},
   "outputs": [
    {
     "name": "stdout",
     "output_type": "stream",
     "text": [
      "solid_sc 18\n",
      "suppressed_cu 20\n",
      "open_mcc 8\n",
      "closed_mcc 29\n",
      "other 0\n",
      "clustered_cu 14\n",
      "disorg_mcc 13\n"
     ]
    }
   ],
   "source": [
    "for k,v in bad_list.items():\n",
    "    print(k, len(v))"
   ]
  },
  {
   "cell_type": "code",
   "execution_count": 25,
   "metadata": {},
   "outputs": [
    {
     "name": "stdout",
     "output_type": "stream",
     "text": [
      "solid_sc 58\n",
      "suppressed_cu 723\n",
      "open_mcc 76\n",
      "closed_mcc 159\n",
      "other 948\n",
      "clustered_cu 436\n",
      "disorg_mcc 200\n"
     ]
    }
   ],
   "source": [
    "for k,v in good_list.items():\n",
    "    print(k, len(v))"
   ]
  },
  {
   "cell_type": "code",
   "execution_count": null,
   "metadata": {},
   "outputs": [],
   "source": []
  }
 ],
 "metadata": {
  "kernelspec": {
   "display_name": "Python [default]",
   "language": "python",
   "name": "python3"
  },
  "language_info": {
   "codemirror_mode": {
    "name": "ipython",
    "version": 3
   },
   "file_extension": ".py",
   "mimetype": "text/x-python",
   "name": "python",
   "nbconvert_exporter": "python",
   "pygments_lexer": "ipython3",
   "version": "3.5.6"
  }
 },
 "nbformat": 4,
 "nbformat_minor": 2
}
