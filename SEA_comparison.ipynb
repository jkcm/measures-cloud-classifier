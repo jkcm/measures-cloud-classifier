{
 "cells": [
  {
   "cell_type": "code",
   "execution_count": 1,
   "metadata": {},
   "outputs": [
    {
     "name": "stdout",
     "output_type": "stream",
     "text": [
      "bernanas\n"
     ]
    }
   ],
   "source": [
    "import numpy as np\n",
    "import matplotlib.pyplot as plt\n",
    "import xarray as xr\n",
    "import glob\n",
    "import datetime as dt\n",
    "import cartopy\n",
    "import cartopy.crs as ccrs\n",
    "print('bernanas')"
   ]
  },
  {
   "cell_type": "code",
   "execution_count": 2,
   "metadata": {},
   "outputs": [],
   "source": [
    "abel_mcc = xr.open_dataset('/home/disk/eos4/jkcm/Data/MEASURES/abel_data/open_cell_climatology_modified_size.nc')"
   ]
  },
  {
   "cell_type": "code",
   "execution_count": 3,
   "metadata": {},
   "outputs": [
    {
     "data": {
      "text/plain": [
       "<xarray.Dataset>\n",
       "Dimensions:          (lat: 255, lon: 309, time: 570)\n",
       "Coordinates:\n",
       "  * lat              (lat) float64 -24.94 -24.85 -24.75 ... -1.19 -1.096 -1.002\n",
       "  * lon              (lon) float64 -15.01 -14.92 -14.82 ... 13.8 13.9 13.99\n",
       "  * time             (time) datetime64[ns] 2000-09-01 2000-09-02 ... 2018-09-30\n",
       "Data variables:\n",
       "    open_cell        (time, lat, lon) float64 ...\n",
       "    open_cell_edge   (time, lat, lon) float64 ...\n",
       "    open_cell_embed  (time, lat, lon) float64 ..."
      ]
     },
     "execution_count": 3,
     "metadata": {},
     "output_type": "execute_result"
    }
   ],
   "source": [
    "abel_mcc"
   ]
  },
  {
   "cell_type": "code",
   "execution_count": null,
   "metadata": {},
   "outputs": [],
   "source": [
    "measures_data = "
   ]
  }
 ],
 "metadata": {
  "kernelspec": {
   "display_name": "Python [conda env:new-meas]",
   "language": "python",
   "name": "conda-env-new-meas-py"
  },
  "language_info": {
   "codemirror_mode": {
    "name": "ipython",
    "version": 3
   },
   "file_extension": ".py",
   "mimetype": "text/x-python",
   "name": "python",
   "nbconvert_exporter": "python",
   "pygments_lexer": "ipython3",
   "version": "3.7.7"
  }
 },
 "nbformat": 4,
 "nbformat_minor": 4
}
